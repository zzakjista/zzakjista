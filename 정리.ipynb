{
 "cells": [
  {
   "cell_type": "markdown",
   "metadata": {},
   "source": [
    "- 1-1. 시간복잡도 측정"
   ]
  },
  {
   "cell_type": "code",
   "execution_count": 5,
   "metadata": {},
   "outputs": [
    {
     "data": {
      "text/plain": [
       "9"
      ]
     },
     "execution_count": 5,
     "metadata": {},
     "output_type": "execute_result"
    }
   ],
   "source": [
    "def arraymax(lst):\n",
    "    max = lst[0]\n",
    "    i=1\n",
    "    while i < len(lst):\n",
    "        if lst[i] > max:\n",
    "            max = lst[i]\n",
    "        i += 1\n",
    "    return max\n",
    "lst = [1,4,5,7,1,8,9,3,2,6]\n",
    "arraymax(lst)"
   ]
  },
  {
   "cell_type": "code",
   "execution_count": 350,
   "metadata": {},
   "outputs": [
    {
     "name": "stdout",
     "output_type": "stream",
     "text": [
      "001\n"
     ]
    }
   ],
   "source": [
    "def sum(n):\n",
    "    if n == 1:\n",
    "        return 1\n",
    "    else:\n",
    "        return n + sum(n-1)\n",
    "sum(2)\n",
    "def notation(base,n):\n",
    "    digits =''\n",
    "    if n == 0:\n",
    "        digits = numberChar[n]\n",
    "    else:\n",
    "        while n > 0:\n",
    "            n,m = divmod(n,base)\n",
    "            digits =  numberChar[m] + digits\n",
    "    print(digits)\n",
    "\n",
    "numberChar = ['0','1','2','3','4','5','6','7','8','9','0','A','B','C','D','E','F']\n",
    "notation(2,4)"
   ]
  },
  {
   "cell_type": "code",
   "execution_count": 375,
   "metadata": {},
   "outputs": [
    {
     "name": "stdout",
     "output_type": "stream",
     "text": [
      "원판1:A -->C\n"
     ]
    }
   ],
   "source": [
    "def hanoi(n,fr,tmp,to):\n",
    "    if n==1:\n",
    "        print('원판1:%s -->%s' %(fr,to))\n",
    "    else:\n",
    "        hanoi(n-1,fr,to,tmp)\n",
    "        print('원판%d: %s --> %s'%(n,fr,to))\n",
    "        hanoi(n-1,tmp,fr,to)\n",
    "hanoi(1,'A','B','C')"
   ]
  },
  {
   "cell_type": "code",
   "execution_count": 336,
   "metadata": {},
   "outputs": [
    {
     "name": "stdout",
     "output_type": "stream",
     "text": [
      "120\n",
      "120\n"
     ]
    }
   ],
   "source": [
    "#팩토리얼 구하기\n",
    "# %%time\n",
    "def factorial(n):#O(N)\n",
    "    if n == 1: return 1\n",
    "    else: return n * factorial(n-1)\n",
    "print(factorial(5))\n",
    "def factorial2(n):#O(N)\n",
    "    i=n\n",
    "    while n > 1:\n",
    "        i *= n-1\n",
    "        n-=1\n",
    "    return i\n",
    "print(factorial2(5))"
   ]
  },
  {
   "cell_type": "code",
   "execution_count": 22,
   "metadata": {},
   "outputs": [
    {
     "name": "stdout",
     "output_type": "stream",
     "text": [
      "8\n",
      "8\n"
     ]
    },
    {
     "data": {
      "text/plain": [
       "32"
      ]
     },
     "execution_count": 22,
     "metadata": {},
     "output_type": "execute_result"
    }
   ],
   "source": [
    "#거듭제곱 구하기\n",
    "def power_iter(x,n): #O(N)\n",
    "    result = 1\n",
    "    for i in range(n):\n",
    "        result *= x\n",
    "    return result\n",
    "print(power_iter(2,3))\n",
    "def power_iter_recur(x,n): #O(N)\n",
    "    if n == 0: return 1\n",
    "    else: return x*power_iter_recur(x,n-1)\n",
    "print(power_iter_recur(2,3))\n",
    "def power(x,n): #O(log2N)\n",
    "    if n == 0: return 1\n",
    "    elif (n%2==0): return power(x*x,n//2)\n",
    "    else: return x*power(x*x,(n-1)//2)\n",
    "power(2,5)"
   ]
  },
  {
   "cell_type": "code",
   "execution_count": 49,
   "metadata": {},
   "outputs": [
    {
     "name": "stdout",
     "output_type": "stream",
     "text": [
      "21\n",
      "21\n"
     ]
    }
   ],
   "source": [
    "#피보나치 수열\n",
    "def fib(n): #O(2**n)\n",
    "    if n == 0: return 0\n",
    "    elif n == 1: return 1\n",
    "    else: return fib(n-2) + fib(n-1)\n",
    "print(fib(8))\n",
    "\n",
    "def fib_iter(n):\n",
    "    if n < 2:\n",
    "        return n\n",
    "    last = 0\n",
    "    current = 1\n",
    "    for i in range(2,n+1):\n",
    "        tmp = current\n",
    "        current = current + last\n",
    "        last = tmp\n",
    "    return current\n",
    "print(fib_iter(8))\n"
   ]
  },
  {
   "cell_type": "code",
   "execution_count": 55,
   "metadata": {},
   "outputs": [
    {
     "name": "stdout",
     "output_type": "stream",
     "text": [
      "★★★★★\n",
      "★★★★\n",
      "★★★\n",
      "★★\n",
      "★\n"
     ]
    }
   ],
   "source": [
    "def star(n):\n",
    "    if n > 0:\n",
    "        print('★'*n)\n",
    "        star(n-1)\n",
    "        \n",
    "star(5)"
   ]
  },
  {
   "cell_type": "markdown",
   "metadata": {},
   "source": [
    "#하노이탑\n",
    "- N개의 원반을 A에서 C로 옮기는 법\n",
    "--> N-1 개를 보조기둥(B)으로 옮긴다 2**n-1\n",
    "--> 가장 큰 원판을 주기둥으로 옮긴다 \n",
    "--> 두번째로 큰 원판을 제외한 N-1개를 보조기둥(A)으로 옮긴다 \n",
    "--> 반복\n"
   ]
  },
  {
   "cell_type": "markdown",
   "metadata": {},
   "source": [
    "- 리스트는 스택, 큐, 데큐와 달리 어디에든 자료에 접근할 수 있다\n",
    "##### 배열과 연결구조\n",
    "- 접근 : O(1) / O(N) -> 순차탐색\n",
    "- 삽입삭제 : O(N) / O(1) ->위치에 따라서, 항목 이동 불필요\n",
    "* 삭제시 레퍼런스 position이 주어지면 O(1) 안주어지면 탐색을해야하므로 O(N)\n",
    "- 크기제한 : 있음(파이썬은없음) / 없음 -> 빈공간이 없음\n"
   ]
  },
  {
   "cell_type": "code",
   "execution_count": 65,
   "metadata": {},
   "outputs": [
    {
     "name": "stdout",
     "output_type": "stream",
     "text": [
      "2206215203152\n",
      "2206215203120 [1, 1, 3]\n",
      "2206215203120 2206215203120\n"
     ]
    }
   ],
   "source": [
    "a = [1,2,3]\n",
    "print(id(a[1]))\n",
    "a[1] = 1\n",
    "print(id(a[1]),a)\n",
    "print(id(a[0]),id(a[1]))\n",
    "#a[1]을 a[0]으로 바꾸면 id값이 같아진다 -> 같은 주소를 참조하고 있다"
   ]
  },
  {
   "cell_type": "markdown",
   "metadata": {},
   "source": [
    "## 단순연결리스트"
   ]
  },
  {
   "cell_type": "code",
   "execution_count": 102,
   "metadata": {},
   "outputs": [
    {
     "name": "stdout",
     "output_type": "stream",
     "text": [
      "dba\n"
     ]
    }
   ],
   "source": [
    "class Slist:\n",
    "    class Node:\n",
    "        def __init__(self,item,link):\n",
    "            self.item = item\n",
    "            self.next = link #아이템과 링크 생성\n",
    "    def __init__(self):\n",
    "        self.head = None\n",
    "        self.size = 0\n",
    "    def is_empty(self): return self.size == 0\n",
    "\n",
    "    def size(self): return self.size\n",
    "        \n",
    "    def insert_front(self,item):\n",
    "        if self.is_empty():\n",
    "            self.head = self.Node(item,None) #당연히 링크가 없음\n",
    "        else:\n",
    "            self.head = self.Node(item,self.head) \n",
    "            #self.head(첫번째)였던 노드를 가리키도록 링크 \n",
    "            #해당 노드가 head가 되도록 \n",
    "        self.size += 1\n",
    "\n",
    "    def insert_after(self,item,p):\n",
    "        if self.is_empty():\n",
    "            raise KeyError('use insert_front instead')\n",
    "        else:\n",
    "            p.next = self.Node(item,p.next)\n",
    "\n",
    "    def delete_front(self):\n",
    "        if self.is_empty():\n",
    "            raise KeyError('use insert_front instead')\n",
    "        else:\n",
    "            self.head = self.head.next #head를 다음거로 지정\n",
    "            self.size -= 1\n",
    "    def delete_after(self,p):\n",
    "        p.next = p.next.next\n",
    "        self.size -= 1\n",
    "        \n",
    "    def print_list(self):\n",
    "        p = self.head\n",
    "        while p: # Node class\n",
    "            if p.next != None:\n",
    "                print(p.item,end='')\n",
    "            else:\n",
    "                print(p.item)\n",
    "            p = p.next\n",
    "    def search(self, item):\n",
    "        p = self.head\n",
    "        for i in range(self.size):\n",
    "            if item == p.item: return i\n",
    "            p = p.next\n",
    "            return None\n",
    "    \n",
    "                \n",
    "\n",
    "\n",
    "lst = Slist()\n",
    "lst.insert_front('a')\n",
    "lst.insert_front('b')\n",
    "lst.insert_after('c',lst.head)\n",
    "lst.delete_after(lst.head)\n",
    "lst.insert_front('d')\n",
    "lst.print_list()\n",
    "lst.search('b')\n"
   ]
  },
  {
   "cell_type": "markdown",
   "metadata": {},
   "source": [
    "### 이중연결리스트\n",
    "- 이전노드까지 알 수 있으나 추가로 레퍼런스를 지정하는 단점이있음\n",
    "- 삽입 삭제 : O(1)\n",
    "- 탐색 : O(N)\n"
   ]
  },
  {
   "cell_type": "code",
   "execution_count": 143,
   "metadata": {},
   "outputs": [
    {
     "name": "stdout",
     "output_type": "stream",
     "text": [
      "1\n",
      "ca"
     ]
    }
   ],
   "source": [
    "class Dlist:\n",
    "    class Node:\n",
    "        def __init__(self,item,prev,link):\n",
    "            self.item = item\n",
    "            self.prev = prev\n",
    "            self.next = link\n",
    "    def __init__(self):\n",
    "        self.head = self.Node(None,None,None)\n",
    "        self.tail = self.Node(None,self.head,None)\n",
    "        self.head.next = self.tail\n",
    "        self.size = 0\n",
    "    \n",
    "    def is_empty(self): return self.size == 0\n",
    "    def size(self): return self.size\n",
    "\n",
    "    def insert_before(self,p,item):\n",
    "        t = p.prev\n",
    "        n = self.Node(item,t,p)\n",
    "        t.next = n\n",
    "        p.prev = n\n",
    "        self.size += 1\n",
    "    \n",
    "    def insert_after(self,p,item):\n",
    "        t = p.next\n",
    "        n = self.Node(item,p,t)\n",
    "        t.prev = n\n",
    "        p.next = n\n",
    "        self.size += 1\n",
    "    \n",
    "    def delete(self,p):\n",
    "        t = p.prev#p.prev는 삭제되어야할 객체\n",
    "        r = p.next\n",
    "        t.next = r\n",
    "        r.prev = t\n",
    "        self.size -= 1\n",
    "    def print_list(self):\n",
    "        p = self.head.next\n",
    "        for i in range(self.size):\n",
    "            if p != self.tail:\n",
    "                print(p.item,end='')\n",
    "            else:\n",
    "                print(p.item)\n",
    "            p = p.next\n",
    "    \n",
    "lst = Dlist()\n",
    "lst.insert_after(lst.head,'a')\n",
    "print(lst.size)\n",
    "lst.insert_after(lst.head,'b')\n",
    "lst.insert_after(lst.head,'c')\n",
    "lst.delete(lst.head.next.next)\n",
    "\n",
    "lst.print_list()\n",
    "lst.head.item\n",
    "        "
   ]
  },
  {
   "cell_type": "markdown",
   "metadata": {},
   "source": [
    "### 원형 연결 리스트\n",
    "- 마지막 노드와 첫 노드가 연결된 단순연결 리스트\n",
    "- 마지막 노드와 첫노드에 접근 O(1)\n",
    "- 반대방향으로 방문이 쉽지 않으며, 무한루프가 발생 가능"
   ]
  },
  {
   "cell_type": "code",
   "execution_count": 212,
   "metadata": {},
   "outputs": [
    {
     "name": "stdout",
     "output_type": "stream",
     "text": [
      "ba\n"
     ]
    },
    {
     "data": {
      "text/plain": [
       "'a'"
      ]
     },
     "execution_count": 212,
     "metadata": {},
     "output_type": "execute_result"
    }
   ],
   "source": [
    "class Clist:\n",
    "    class _Node:\n",
    "        def __init__(self, item, link):\n",
    "            self.item = item\n",
    "            self.next = link\n",
    "    def __init__(self):\n",
    "        self.last = None\n",
    "        self.size = 0\n",
    "    \n",
    "    def size(self): return self.size\n",
    "    def is_empty(self): return self.size == 0\n",
    "\n",
    "    def insert(self, item): #노드 첫단에 삽입 O(1)\n",
    "        n = self._Node(item,None)\n",
    "        if self.is_empty():\n",
    "            n.next = n\n",
    "            self.last = n #자기 자신을 가리키도록\n",
    "        else:\n",
    "            n.next = self.last.next #첫번째로의 링크를 n의 next로 \n",
    "            self.last.next = n #마지막 노드의 next를 n으로\n",
    "        self.size += 1  #그러면 self.last는 고정인가?\n",
    "    def last(self):\n",
    "        return self.last.item\n",
    "    def delete(self):\n",
    "        x = self.last.next #처음노드\n",
    "        if self.size == 1:\n",
    "            self.last = None\n",
    "        else:\n",
    "            self.last.next = x.next #처음삭제\n",
    "        self.size -= 1\n",
    "        return x.item\n",
    "    \n",
    "    def print_list(self):\n",
    "        p = self.last.next\n",
    "        for i in range(self.size):\n",
    "            if p != self.last:\n",
    "                print(p.item, end='')\n",
    "            else:\n",
    "                print(p.item)\n",
    "            p = p.next\n",
    "\n",
    "lst = Clist()\n",
    "lst.insert('a')\n",
    "lst.insert('b')\n",
    "lst.insert('b')\n",
    "lst.delete()\n",
    "lst.print_list()\n",
    "lst.is_empty()\n",
    "lst.size\n",
    "lst.last.item"
   ]
  },
  {
   "cell_type": "markdown",
   "metadata": {},
   "source": [
    "### Stack\n",
    "- 단순연결 / 파이썬 리스트 / 클래스(리스트사용)\n",
    "- LIFO : Last In First Out\n",
    "- 용도 : 되돌리기, 함수호출(재귀), 괄호검사, 후위표기식, 미로탐색\n",
    "* 리스트일 때 맨뒤에 스택을 하는게 좋은이유 앞을 쓰면 O(n)번의 이동을하게된다\n",
    "- 삽입 삭제 : O(1)\n",
    "*파이썬 리스트의 경우 동적 메모리 재할당으로 O(N)"
   ]
  },
  {
   "cell_type": "code",
   "execution_count": 187,
   "metadata": {},
   "outputs": [
    {
     "name": "stdout",
     "output_type": "stream",
     "text": [
      "-> cc-> a"
     ]
    }
   ],
   "source": [
    "class Stack:\n",
    "    class Node:\n",
    "        def __init__(self,item,link):\n",
    "            self.item = item\n",
    "            self.prev = link\n",
    "    def __init__(self):\n",
    "        self.top = None\n",
    "        self.size = 0\n",
    "    def is_empty(self): return self.size == 0\n",
    "    def size(self): return self.size\n",
    "    def push(self,item):\n",
    "        if self.is_empty():\n",
    "            self.top = self.Node(item,None)\n",
    "        else:\n",
    "            self.top = self.Node(item,self.top)\n",
    "        self.size += 1\n",
    "    def peek(self):\n",
    "        if self.is_empty():\n",
    "            raise IndexError('No Element')\n",
    "        else:\n",
    "            print(self.top.item)\n",
    "    def pop(self):\n",
    "        if self.is_empty():\n",
    "            raise IndexError('No Element')\n",
    "        else:\n",
    "            item = self.top\n",
    "            self.top = self.top.prev\n",
    "            self.size -= 1\n",
    "            return item.item\n",
    "    def print_stack(self):\n",
    "        if self.is_empty():\n",
    "            raise IndexError('No Element')\n",
    "        else:\n",
    "            p = self.top\n",
    "            while p != None:\n",
    "                print('->',p.item,end='')\n",
    "                p = p.prev\n",
    "stk = Stack()\n",
    "stk.push('a')\n",
    "stk.push('cc')\n",
    "stk.print_stack()"
   ]
  },
  {
   "cell_type": "code",
   "execution_count": 224,
   "metadata": {},
   "outputs": [
    {
     "name": "stdout",
     "output_type": "stream",
     "text": [
      "5\n"
     ]
    },
    {
     "data": {
      "text/plain": [
       "True"
      ]
     },
     "execution_count": 224,
     "metadata": {},
     "output_type": "execute_result"
    }
   ],
   "source": [
    "#문자열이 회문인지 확인하는 함수\n",
    "def checkstr(my_str):\n",
    "    stk = Stack()\n",
    "    if len(my_str)%2 == 0:\n",
    "        for i in range(len(my_str)):\n",
    "            if i <= len(my_str) // 2-1: \n",
    "                stk.push(my_str[i])\n",
    "            elif i > len(my_str)//2 -1:\n",
    "                pop = stk.pop()\n",
    "                if pop != my_str[i]:\n",
    "                    return False\n",
    "        return stk.is_empty()\n",
    "    else:\n",
    "        for i in range(len(my_str)):\n",
    "            if i < len(my_str) // 2:\n",
    "                stk.push(my_str[i])\n",
    "            elif i > len(my_str) // 2:\n",
    "                pop = stk.pop()\n",
    "                if my_str[i] != pop:\n",
    "                    return False\n",
    "        return stk.is_empty()\n",
    "\n",
    "    \n",
    "my_str = 'abcba'\n",
    "print(len(my_str))\n",
    "checkstr(my_str)  "
   ]
  },
  {
   "cell_type": "code",
   "execution_count": 218,
   "metadata": {},
   "outputs": [
    {
     "name": "stdout",
     "output_type": "stream",
     "text": [
      "a\n",
      "a\n"
     ]
    },
    {
     "data": {
      "text/plain": [
       "[]"
      ]
     },
     "execution_count": 218,
     "metadata": {},
     "output_type": "execute_result"
    }
   ],
   "source": [
    "#리스트로 만든 스택\n",
    "def push(item):\n",
    "    stack.append(item)\n",
    "def peek():\n",
    "    if len(stack) != 0:\n",
    "        return stack[-1]\n",
    "    else:\n",
    "        raise IndexError('No element')\n",
    "def pop():\n",
    "    if len(stack) != 0:\n",
    "        item = stack.pop(-1)\n",
    "        return item\n",
    "    else:\n",
    "        raise IndexError('No element')\n",
    "stack = []\n",
    "push('a')\n",
    "print(peek())\n",
    "print(pop())\n",
    "stack"
   ]
  },
  {
   "cell_type": "markdown",
   "metadata": {},
   "source": [
    "### 큐\n",
    "- FIFO\n",
    "- 단순연결리스트로 구현 (파이썬 리스트)\n",
    "*삭제 시 O(N) -> 자리 이동\n",
    "- 원형리스트로 구현"
   ]
  },
  {
   "cell_type": "code",
   "execution_count": 386,
   "metadata": {},
   "outputs": [
    {
     "name": "stdout",
     "output_type": "stream",
     "text": [
      "front-> 1 2 3 4 5 6 7 8 9 10 <-rear\n"
     ]
    }
   ],
   "source": [
    "#배열로 만든 큐\n",
    "class Arrayqueue:\n",
    "    def __init__(self):\n",
    "        self.arr = []\n",
    "    def is_empty(self): return len(self.arr) == 0\n",
    "    def size(self): return len(self.arr)\n",
    "    def enqueue(self,x):\n",
    "        self.arr.append(x)\n",
    "    def dequeue(self):\n",
    "        pop = self.arr.pop(0)\n",
    "        return pop\n",
    "    def display(self):\n",
    "        print('front-> ', end='')\n",
    "        for i in range(len(self.arr)):\n",
    "            print('{!s:<2}'.format(self.arr[i]),end='')\n",
    "        print(' <-rear')\n",
    "aq = Arrayqueue()\n",
    "aq.is_empty()\n",
    "for i in range(11): aq.enqueue(i)\n",
    "aq.dequeue()\n",
    "aq.display()"
   ]
  },
  {
   "cell_type": "code",
   "execution_count": 319,
   "metadata": {},
   "outputs": [
    {
     "name": "stdout",
     "output_type": "stream",
     "text": [
      "123456\n"
     ]
    }
   ],
   "source": [
    "#단순연결로 만들어본 큐\n",
    "class simplyqueue:\n",
    "    class Node:\n",
    "        def __init__(self, item, link):\n",
    "            self.item = item\n",
    "            self.next = link\n",
    "    def __init__(self):\n",
    "        self.front = None\n",
    "        self.tail = None\n",
    "        self.size = 0\n",
    "    def is_empty(self): return self.size == 0\n",
    "    def size(self): return self.size\n",
    "\n",
    "    def enqueue(self,x):\n",
    "        n = self.Node(x,None)\n",
    "        if self.is_empty():\n",
    "            self.front = n \n",
    "        else:\n",
    "            self.tail.next = n\n",
    "        self.tail = n\n",
    "        self.size += 1\n",
    "    def dequeue(self):\n",
    "        if not self.is_empty():\n",
    "            if self.size == 1:\n",
    "                self.tail = None\n",
    "            else:\n",
    "                data = self.front.item\n",
    "                self.front = self.front.next\n",
    "                return data\n",
    "        self.size -= 1 \n",
    "    def display(self):\n",
    "        if not self.is_empty():\n",
    "            p = self.front\n",
    "            while p != self.tail:\n",
    "                print(p.item,end='')\n",
    "                p = p.next\n",
    "            print(p.item)\n",
    "            \n",
    "sq = simplyqueue()\n",
    "for i in range(7): sq.enqueue(i)\n",
    "# sq.enqueue('b')\n",
    "# sq.enqueue('c')\n",
    "sq.dequeue()\n",
    "sq.display()"
   ]
  },
  {
   "cell_type": "code",
   "execution_count": null,
   "metadata": {},
   "outputs": [],
   "source": [
    "#단순연결리스트로 만든 큐2\n",
    "class Node:\n",
    "    def __init__(self,item,n):\n",
    "        self.item = item\n",
    "        self.next = n\n",
    "def add(item):\n",
    "    global size"
   ]
  },
  {
   "cell_type": "code",
   "execution_count": 273,
   "metadata": {},
   "outputs": [
    {
     "name": "stdout",
     "output_type": "stream",
     "text": [
      "bc"
     ]
    },
    {
     "data": {
      "text/plain": [
       "'c'"
      ]
     },
     "execution_count": 273,
     "metadata": {},
     "output_type": "execute_result"
    }
   ],
   "source": [
    "#연결로 만든 원형큐\n",
    "class simplycircularqueue:\n",
    "    class Node:\n",
    "        def __init__(self,item,link):\n",
    "            self.item = item\n",
    "            self.next = link\n",
    "    def __init__(self):\n",
    "        self.tail = None\n",
    "        self.size = 0\n",
    "    def is_empty(self):\n",
    "        return self.tail == None\n",
    "    def enqueue(self,x):\n",
    "        if self.is_empty():\n",
    "            n = self.Node(x,None)\n",
    "            self.tail = n\n",
    "            self.tail.next = n #front           \n",
    "        else:\n",
    "            n = self.Node(x,self.tail.next)\n",
    "            self.tail.next = n\n",
    "            self.tail = n\n",
    "        self.size += 1\n",
    "    def dequeue(self):\n",
    "        if not self.is_empty():\n",
    "            if self.size == 1:\n",
    "                self.tail = None\n",
    "            else:\n",
    "                data = self.tail.next.item\n",
    "                self.tail.next = self.tail.next.next\n",
    "                return data\n",
    "            self.dequeue\n",
    "    def display(self):\n",
    "        if not self.is_empty():\n",
    "            p = self.tail.next\n",
    "            while p != self.tail:\n",
    "                print(p.item,end='')\n",
    "                p = p.next\n",
    "            print(p.item,end='')\n",
    "sq = simplycircularqueue()\n",
    "sq.enqueue('a')\n",
    "sq.enqueue('b')\n",
    "sq.enqueue('c')\n",
    "sq.dequeue()\n",
    "sq.display()\n",
    "sq.tail.next.next.item\n",
    "\n",
    "\n",
    "        \n",
    "        "
   ]
  },
  {
   "cell_type": "code",
   "execution_count": 257,
   "metadata": {},
   "outputs": [
    {
     "name": "stdout",
     "output_type": "stream",
     "text": [
      "full이잖아\n",
      "f=0,r=4 [0, 1, 2, 3]\n"
     ]
    }
   ],
   "source": [
    "#원형 큐\n",
    "MAX_QSIZE = 5 \n",
    "class CircularQueue:\n",
    "    def __init__(self):\n",
    "        self.front = 0\n",
    "        self.rear = 0\n",
    "        self.items = [None]*MAX_QSIZE\n",
    "    def is_empty(self): return self.front == self.rear\n",
    "    def is_full(self): return self.front == (self.rear+1) % MAX_QSIZE\n",
    "    def enqueue(self,x):\n",
    "        if not self.is_full():\n",
    "            self.rear = (self.rear+1) % MAX_QSIZE\n",
    "            self.items[self.rear] = x\n",
    "        else:\n",
    "            print('full이잖아')\n",
    "    def dequeue(self):\n",
    "        if not self.is_empty():\n",
    "            self.front = (self.front+1) % MAX_QSIZE\n",
    "            return self.items[self.front]\n",
    "    def peek(self):\n",
    "        if not self.is_empty(): return self.itmes[(self.front+1)%MAX_QSIZE]\n",
    "    def size(self):\n",
    "        return (self.rear - self.front + MAX_QSIZE) % MAX_QSIZE\n",
    "    def display(self):\n",
    "        out = []\n",
    "        if not self.is_empty():\n",
    "            if self.front < self.rear:\n",
    "                out = self.items[self.front+1:self.rear+1]\n",
    "            else:\n",
    "                out = self.items[self.front+1:MAX_QSIZE]+ self.items[0:self.rear+1]\n",
    "        print('f=%d,r=%d'%(self.front,self.rear),out)\n",
    "queue = CircularQueue()\n",
    "for i in range(5): queue.enqueue(i)\n",
    "queue.display()"
   ]
  },
  {
   "cell_type": "code",
   "execution_count": 329,
   "metadata": {},
   "outputs": [
    {
     "data": {
      "text/plain": [
       "2"
      ]
     },
     "execution_count": 329,
     "metadata": {},
     "output_type": "execute_result"
    }
   ],
   "source": [
    "#패키지로 만든 큐\n",
    "import queue\n",
    "q = queue.Queue(maxsize=5)\n",
    "q.put('a')\n",
    "q.put('b')\n",
    "q.qsize()"
   ]
  }
 ],
 "metadata": {
  "kernelspec": {
   "display_name": "Python 3 (ipykernel)",
   "language": "python",
   "name": "python3"
  },
  "language_info": {
   "codemirror_mode": {
    "name": "ipython",
    "version": 3
   },
   "file_extension": ".py",
   "mimetype": "text/x-python",
   "name": "python",
   "nbconvert_exporter": "python",
   "pygments_lexer": "ipython3",
   "version": "3.9.7"
  }
 },
 "nbformat": 4,
 "nbformat_minor": 2
}
